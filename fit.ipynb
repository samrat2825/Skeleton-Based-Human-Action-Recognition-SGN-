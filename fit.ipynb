{
 "cells": [
  {
   "cell_type": "code",
   "execution_count": null,
   "metadata": {},
   "outputs": [],
   "source": [
    "def add_fit_args(parser):\n",
    "    \"\"\"\n",
    "    parser : argparse.ArgumentParser\n",
    "    return a parser added with args required by fit\n",
    "    \"\"\"\n",
    "    args = parser.add_argument_group('Training', 'model training')\n",
    "    args.add_argument('--network', type=str,\n",
    "                      help='the neural network to use')\n",
    "    args.add_argument('--dataset', type=str, default='NTU',\n",
    "                      help='select dataset to evlulate')\n",
    "    args.add_argument('--start-epoch', default=0, type=int,\n",
    "                      help='manual epoch number (useful on restarts)')\n",
    "    args.add_argument('--max-epoches', type=int, default=150,\n",
    "                      help='max number of epochs to run')\n",
    "    args.add_argument('--lr', type=float, default=0.1,\n",
    "                      help='initial learning rate')\n",
    "    args.add_argument('--lr-factor', type=float, default=0.1,\n",
    "                      help='the ratio to reduce lr on each step')\n",
    "    args.add_argument('--weight-decay', '--wd', type=float, default=1e-4,\n",
    "                      help='weight decay (default: 1e-4)')\n",
    "    args.add_argument('--print-freq', '-p', type=int, default=10,\n",
    "                      help='print frequency (default: 10)')\n",
    "    args.add_argument('-b', '--batch-size', type=int, default=256,\n",
    "                      help='mini-batch size (default: 256)')\n",
    "    args.add_argument('--num-classes', type=int, default=60,\n",
    "                      help='the number of classes')\n",
    "    args.add_argument('--case', type=int, default=0,\n",
    "                      help='select which case')\n",
    "    args.add_argument('--train', type=int, default=1,\n",
    "                      help='train or test')\n",
    "    args.add_argument('--workers', type=int, default=2,\n",
    "                      help='number of data loading workers (default: 2)')\n",
    "    args.add_argument('--monitor', type=str, default='val_acc',\n",
    "                      help='quantity to monitor (default: val_acc)')\n",
    "    args.add_argument('--seg', type=int, default=20,\n",
    "                      help='number of segmentation')\n",
    "    return args\n"
   ]
  }
 ],
 "metadata": {
  "kernelspec": {
   "display_name": "Python 3",
   "language": "python",
   "name": "python3"
  },
  "language_info": {
   "codemirror_mode": {
    "name": "ipython",
    "version": 3
   },
   "file_extension": ".py",
   "mimetype": "text/x-python",
   "name": "python",
   "nbconvert_exporter": "python",
   "pygments_lexer": "ipython3",
   "version": "3.8.3"
  }
 },
 "nbformat": 4,
 "nbformat_minor": 4
}
