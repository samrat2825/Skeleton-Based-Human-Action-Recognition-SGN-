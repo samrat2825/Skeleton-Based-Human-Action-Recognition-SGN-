{
 "cells": [
  {
   "cell_type": "code",
   "execution_count": null,
   "metadata": {},
   "outputs": [],
   "source": [
    "import os\n",
    "import csv\n",
    "import numpy as np\n",
    "import matplotlib.pyplot as plt\n",
    "import torch.nn as nn\n",
    "import torch\n",
    "import os.path as osp"
   ]
  },
  {
   "cell_type": "code",
   "execution_count": null,
   "metadata": {},
   "outputs": [],
   "source": [
    "def make_dir(dataset):\n",
    "    if dataset == 'NTU':\n",
    "        output_dir = os.path.join('./results/NTU/')\n",
    "    elif dataset == 'NTU120':\n",
    "        output_dir = os.path.join('./results/NTU120/')\n",
    "\n",
    "    if not os.path.exists(output_dir):\n",
    "        os.makedirs(output_dir)\n",
    "\n",
    "    return output_dir\n",
    "\n",
    "def get_num_classes(dataset):\n",
    "    if dataset == 'NTU':\n",
    "        return 60\n",
    "    elif dataset == 'NTU120':\n",
    "        return 120"
   ]
  }
 ],
 "metadata": {
  "kernelspec": {
   "display_name": "Python 3",
   "language": "python",
   "name": "python3"
  },
  "language_info": {
   "codemirror_mode": {
    "name": "ipython",
    "version": 3
   },
   "file_extension": ".py",
   "mimetype": "text/x-python",
   "name": "python",
   "nbconvert_exporter": "python",
   "pygments_lexer": "ipython3",
   "version": "3.8.3"
  }
 },
 "nbformat": 4,
 "nbformat_minor": 4
}
